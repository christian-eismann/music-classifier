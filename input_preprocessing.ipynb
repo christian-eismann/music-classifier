{
 "cells": [
  {
   "cell_type": "code",
   "execution_count": 36,
   "metadata": {},
   "outputs": [],
   "source": [
    "import torch\n",
    "import torchaudio"
   ]
  },
  {
   "cell_type": "code",
   "execution_count": null,
   "metadata": {},
   "outputs": [],
   "source": [
    "def preprocess(filepath):\n",
    "    # resampling, to mono\n",
    "    resample = torchaudio.transforms.Resample(orig_freq=sr, new_freq=22050)\n",
    "    wf, sr = torchaudio.load(filepath)\n",
    "    wf = resample(wf)\n",
    "    wf = torch.mean(wf, dim=0)\n",
    "\n",
    "    # transform to spectrogram,\n",
    "    make_spectrogram = torchaudio.transforms.Spectrogram(n_fft=510, hop_length=259, power=None, return_complex=True)\n",
    "    input_spec = make_spectrogram(wf)\n",
    "\n",
    "    # split in real and imaginary numbers\n",
    "    input_tensor = torch.empty(size=list([2] + list(input_spec.shape)))\n",
    "    input_tensor[0] = input_spec.real\n",
    "    input_tensor[1] = input_spec.imag\n",
    "\n",
    "    # create batch for input in neural network\n",
    "    input_batch = torch.split(input_tensor, 256, dim=-1)\n",
    "    if ((input_tensor.shape[-1]%256) != 0):\n",
    "        input_batch = torch.stack(input_batch[:-1])\n",
    "    else:\n",
    "        input_batch = torch.stack(input_batch)\n",
    "    \n",
    "    return input_batch"
   ]
  },
  {
   "cell_type": "code",
   "execution_count": 39,
   "metadata": {},
   "outputs": [],
   "source": [
    "# load input file and transform to mono, 22.050Hz\n",
    "\n",
    "filepath = 'witchfucker-dunkel.wav'\n",
    "\n",
    "resample = torchaudio.transforms.Resample(orig_freq=sr, new_freq=22050)\n",
    "def to_mono(waveform): return torch.mean(waveform, dim=0)\n",
    "\n",
    "wf, sr = torchaudio.load(filepath)\n",
    "wf_ = resample(wf)\n",
    "wf_ = to_mono(wf_)\n"
   ]
  },
  {
   "cell_type": "code",
   "execution_count": 150,
   "metadata": {},
   "outputs": [],
   "source": [
    "# transform to spectrogram, create input tensor\n",
    "\n",
    "make_spectrogram = torchaudio.transforms.Spectrogram(n_fft=510, hop_length=259, power=None, return_complex=True)\n",
    "\n",
    "# spectrogram with complex numbers\n",
    "input_spec = make_spectrogram(wf_)\n",
    "\n",
    "# split in real and imaginary numbers\n",
    "input_tensor = torch.empty(size=list([2] + list(input_spec.shape)))\n",
    "input_tensor[0] = input_spec.real\n",
    "input_tensor[1] = input_spec.imag\n",
    "\n",
    "# create batch for input in neural network\n"
   ]
  },
  {
   "cell_type": "code",
   "execution_count": 152,
   "metadata": {},
   "outputs": [],
   "source": [
    "input_batch = torch.split(input_tensor, 256, dim=-1)\n",
    "\n",
    "if ((input_tensor.shape[-1]%256) != 0):\n",
    "    input_batch = torch.stack(input_batch[:-1])\n",
    "else:\n",
    "    input_batch = torch.stack(input_batch)"
   ]
  },
  {
   "cell_type": "code",
   "execution_count": 153,
   "metadata": {},
   "outputs": [
    {
     "data": {
      "text/plain": [
       "torch.Size([47, 2, 256, 256])"
      ]
     },
     "execution_count": 153,
     "metadata": {},
     "output_type": "execute_result"
    }
   ],
   "source": [
    "input_batch.shape"
   ]
  }
 ],
 "metadata": {
  "interpreter": {
   "hash": "d7e5a1f785ed82844e2da5d30522181462e1597dbd1807cbc4c5c0cc1d5a2e0b"
  },
  "kernelspec": {
   "display_name": "Python 3.9.7 ('base')",
   "language": "python",
   "name": "python3"
  },
  "language_info": {
   "codemirror_mode": {
    "name": "ipython",
    "version": 3
   },
   "file_extension": ".py",
   "mimetype": "text/x-python",
   "name": "python",
   "nbconvert_exporter": "python",
   "pygments_lexer": "ipython3",
   "version": "3.9.7"
  },
  "orig_nbformat": 4
 },
 "nbformat": 4,
 "nbformat_minor": 2
}
